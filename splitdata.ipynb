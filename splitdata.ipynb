{
 "cells": [
  {
   "cell_type": "code",
   "execution_count": 4,
   "metadata": {},
   "outputs": [],
   "source": [
    "import os\n",
    "import random\n",
    "import shutil\n",
    "\n",
    "data_dir = \"D:/Data/Dataset\"\n",
    "train_dir = \"D:/Data/Train\"\n",
    "valid_dir = \"D:/Data/Valid\"\n",
    "test_dir = \"D:/Data/Test\"\n",
    "\n",
    "os.makedirs(train_dir, exist_ok=True)\n",
    "os.makedirs(os.path.join(train_dir, \"images\"), exist_ok=True)\n",
    "os.makedirs(os.path.join(train_dir, \"labels\"), exist_ok=True)\n",
    "os.makedirs(valid_dir, exist_ok=True)\n",
    "os.makedirs(os.path.join(valid_dir, \"images\"), exist_ok=True)\n",
    "os.makedirs(os.path.join(valid_dir, \"labels\"), exist_ok=True)\n",
    "os.makedirs(test_dir, exist_ok=True)\n",
    "os.makedirs(os.path.join(test_dir, \"images\"), exist_ok=True)\n",
    "os.makedirs(os.path.join(test_dir, \"labels\"), exist_ok=True)\n",
    "\n",
    "files = os.listdir(data_dir)\n",
    "\n",
    "# Lọc các file ảnh (jpg, jpeg) và nhãn (txt)\n",
    "image_files = [f for f in files if f.lower().endswith(('.jpg', '.jpeg'))]\n",
    "label_files = [f for f in files if f.lower().endswith(('.txt', '.xml'))]\n",
    "\n",
    "# Lấy số lượng file cho mỗi tập\n",
    "total_files = len(image_files)\n",
    "train_size = int(total_files * 0.6) \n",
    "valid_size = int(total_files * 0.2) \n",
    "test_size = total_files - train_size - valid_size  \n",
    "\n",
    "# Randomize danh sách file ảnh\n",
    "random.shuffle(image_files)\n",
    "\n",
    "# Chia dữ liệu thành các tập train, valid, test\n",
    "train_files = image_files[:train_size]\n",
    "valid_files = image_files[train_size:train_size + valid_size]\n",
    "test_files = image_files[train_size + valid_size:]\n",
    "\n",
    "def move_files(source_dir, dest_dir, files):\n",
    "    for file in files:\n",
    "        img_file = os.path.join(source_dir, file)\n",
    "        label_file = os.path.splitext(file)[0] + \".txt\"\n",
    "        if os.path.exists(img_file):\n",
    "            shutil.move(img_file, os.path.join(dest_dir, \"images\", file))\n",
    "        if os.path.exists(os.path.join(source_dir, label_file)):\n",
    "            shutil.move(os.path.join(source_dir, label_file), os.path.join(dest_dir, \"labels\", label_file))\n",
    "\n",
    "# Di chuyển các file ảnh vào thư mục images và các file nhãn vào thư mục labels\n",
    "move_files(data_dir, train_dir, train_files)\n",
    "move_files(data_dir, valid_dir, valid_files)\n",
    "move_files(data_dir, test_dir, test_files)"
   ]
  }
 ],
 "metadata": {
  "kernelspec": {
   "display_name": "Python 3",
   "language": "python",
   "name": "python3"
  },
  "language_info": {
   "codemirror_mode": {
    "name": "ipython",
    "version": 3
   },
   "file_extension": ".py",
   "mimetype": "text/x-python",
   "name": "python",
   "nbconvert_exporter": "python",
   "pygments_lexer": "ipython3",
   "version": "3.11.3"
  },
  "orig_nbformat": 4
 },
 "nbformat": 4,
 "nbformat_minor": 2
}
